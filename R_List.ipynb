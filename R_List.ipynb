{
 "cells": [
  {
   "cell_type": "markdown",
   "id": "9435ba48",
   "metadata": {},
   "source": [
    "Q.Repeat program 4 for a list of such words to be censored"
   ]
  },
  {
   "cell_type": "code",
   "execution_count": 2,
   "id": "64c3d048",
   "metadata": {},
   "outputs": [],
   "source": [
    "words = [\"donkey\",\"Jk\",\"jimin\",\"rm\",\"suga\",\"v\",\"j-hope\",\"rose\",\"jinee\"]\n",
    "with open(\"sample1.txt\")as f:\n",
    "    content = f.read()\n",
    "for word in words:\n",
    "    content = content.replace(word,\"$%&^#@#$%\")\n",
    "    with open(\"sample1.txt\",\"w\")as f:\n",
    "        f.write(content)\n",
    "    "
   ]
  },
  {
   "cell_type": "code",
   "execution_count": null,
   "id": "4e2068fa",
   "metadata": {},
   "outputs": [],
   "source": []
  }
 ],
 "metadata": {
  "kernelspec": {
   "display_name": "Python 3 (ipykernel)",
   "language": "python",
   "name": "python3"
  },
  "language_info": {
   "codemirror_mode": {
    "name": "ipython",
    "version": 3
   },
   "file_extension": ".py",
   "mimetype": "text/x-python",
   "name": "python",
   "nbconvert_exporter": "python",
   "pygments_lexer": "ipython3",
   "version": "3.9.7"
  }
 },
 "nbformat": 4,
 "nbformat_minor": 5
}
